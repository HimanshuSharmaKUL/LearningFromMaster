{
 "cells": [
  {
   "cell_type": "code",
   "execution_count": 25,
   "id": "882e363b",
   "metadata": {},
   "outputs": [],
   "source": [
    "import math\n",
    "import os\n",
    "import random\n",
    "import re\n",
    "import sys\n",
    "import numpy as np"
   ]
  },
  {
   "cell_type": "code",
   "execution_count": 44,
   "id": "8375e222",
   "metadata": {},
   "outputs": [
    {
     "data": {
      "text/plain": [
       "[0, 0, 2, 0, 2, 2, 0, 0]"
      ]
     },
     "execution_count": 44,
     "metadata": {},
     "output_type": "execute_result"
    }
   ],
   "source": [
    "# q = [2, 1, 5, 3, 4]\n",
    "# q = [3,1,7,8,4,5,9,6,2]\n",
    "q = [2, 5, 1, 3, 4]\n",
    "q = [1,2,5,3,7,8,6,4]\n",
    "q_sorted = sorted(q)\n",
    "l = [i[0]-i[1] for i in zip(q,q_sorted)]\n",
    "mask = [el<=0 for el in l]\n",
    "[l[i] if not mask[i] else 0 for i in range(len(l)) ]\n",
    "\n"
   ]
  },
  {
   "cell_type": "code",
   "execution_count": null,
   "id": "bd5e5fce",
   "metadata": {},
   "outputs": [],
   "source": [
    "posch = [i-j for i,j in zip(q.index(),q_sorted.index())]"
   ]
  },
  {
   "cell_type": "code",
   "execution_count": 11,
   "id": "643ff7b8",
   "metadata": {},
   "outputs": [
    {
     "data": {
      "text/plain": [
       "[(3, 1), (1, 2), (7, 3), (8, 4), (4, 5), (5, 6), (9, 7), (6, 8), (2, 9)]"
      ]
     },
     "execution_count": 11,
     "metadata": {},
     "output_type": "execute_result"
    }
   ],
   "source": [
    "[(i[0],i[1]) for i in zip(q,q_sorted)]"
   ]
  },
  {
   "cell_type": "code",
   "execution_count": null,
   "id": "8c108473",
   "metadata": {},
   "outputs": [],
   "source": []
  },
  {
   "cell_type": "code",
   "execution_count": 43,
   "id": "3ea47ca2",
   "metadata": {},
   "outputs": [
    {
     "name": "stdout",
     "output_type": "stream",
     "text": [
      "Too chaotic\n",
      "1\n"
     ]
    }
   ],
   "source": [
    "blist = [(q_sorted.index(i[0])-q.index(i[0])) for i in zip(q,q_sorted)]\n",
    "mask = [el<=0 for el in blist]\n",
    "blist2 = [blist[i] if not mask[i] else 0 for i in range(len(blist)) ]\n",
    "\n",
    "i=0\n",
    "for b in blist2:\n",
    "    if 0<=b<=2:\n",
    "        i=i+b\n",
    "        \n",
    "    else:\n",
    "        print('Too chaotic')\n",
    "        break\n",
    "\n",
    "print(i)"
   ]
  },
  {
   "cell_type": "code",
   "execution_count": 55,
   "id": "f3e1981b",
   "metadata": {},
   "outputs": [
    {
     "name": "stdout",
     "output_type": "stream",
     "text": [
      "-\n",
      "i 0\n",
      "=\n",
      "-\n",
      "i 1\n",
      "0\n",
      "j 0\n",
      "1 2\n",
      "=\n",
      "-\n",
      "i 2\n",
      "=\n",
      "-\n",
      "i 3\n",
      "1\n",
      "j 1\n",
      "2 3\n",
      "1\n",
      "j 2\n",
      "5 3\n",
      "=\n",
      "-\n",
      "i 4\n",
      "=\n",
      "-\n",
      "i 5\n",
      "=\n",
      "-\n",
      "i 6\n",
      "4\n",
      "j 4\n",
      "7 6\n",
      "4\n",
      "j 5\n",
      "8 6\n",
      "=\n",
      "-\n",
      "i 7\n",
      "2\n",
      "j 2\n",
      "5 4\n",
      "2\n",
      "j 3\n",
      "3 4\n",
      "2\n",
      "j 4\n",
      "7 4\n",
      "2\n",
      "j 5\n",
      "8 4\n",
      "2\n",
      "j 6\n",
      "6 4\n",
      "=\n"
     ]
    },
    {
     "data": {
      "text/plain": [
       "7"
      ]
     },
     "execution_count": 55,
     "metadata": {},
     "output_type": "execute_result"
    }
   ],
   "source": [
    "bribes = 0\n",
    "q = [1,2,5,3,7,8,6,4]\n",
    "for i in range(len(q)):\n",
    "    print('-')\n",
    "    print('i', i)\n",
    "    if q[i] - (i + 1) > 2:  \n",
    "        print(\"Too chaotic\")\n",
    "        break\n",
    "\n",
    "    for j in range(max(0, q[i] - 2), i):\n",
    "        print(q[i] - 2)\n",
    "        print('j',j)\n",
    "        print(q[j], q[i])\n",
    "        \n",
    "        if q[j] > q[i]:  \n",
    "            bribes += 1\n",
    "    print('=')\n",
    "bribes"
   ]
  },
  {
   "cell_type": "code",
   "execution_count": 48,
   "id": "d85e841e",
   "metadata": {},
   "outputs": [
    {
     "data": {
      "text/plain": [
       "[]"
      ]
     },
     "execution_count": 48,
     "metadata": {},
     "output_type": "execute_result"
    }
   ],
   "source": [
    "[i for i in range(3,2)]"
   ]
  }
 ],
 "metadata": {
  "kernelspec": {
   "display_name": "base",
   "language": "python",
   "name": "python3"
  },
  "language_info": {
   "codemirror_mode": {
    "name": "ipython",
    "version": 3
   },
   "file_extension": ".py",
   "mimetype": "text/x-python",
   "name": "python",
   "nbconvert_exporter": "python",
   "pygments_lexer": "ipython3",
   "version": "3.11.5"
  }
 },
 "nbformat": 4,
 "nbformat_minor": 5
}
